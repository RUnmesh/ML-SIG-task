{
 "cells": [
  {
   "cell_type": "code",
   "execution_count": null,
   "metadata": {},
   "outputs": [],
   "source": []
  },
  {
   "cell_type": "raw",
   "metadata": {},
   "source": [
    "# Question 1:\n",
    "### Make a 9x9 numpy array filled with the repeating pattern 1,2,3,1,2,3,..."
   ]
  },
  {
   "cell_type": "code",
   "execution_count": 7,
   "metadata": {},
   "outputs": [
    {
     "name": "stdout",
     "output_type": "stream",
     "text": [
      "[[1 2 3 1 2 3 1 2 3]\n",
      " [1 2 3 1 2 3 1 2 3]\n",
      " [1 2 3 1 2 3 1 2 3]\n",
      " [1 2 3 1 2 3 1 2 3]\n",
      " [1 2 3 1 2 3 1 2 3]\n",
      " [1 2 3 1 2 3 1 2 3]\n",
      " [1 2 3 1 2 3 1 2 3]\n",
      " [1 2 3 1 2 3 1 2 3]\n",
      " [1 2 3 1 2 3 1 2 3]]\n"
     ]
    }
   ],
   "source": [
    "import numpy as np\n",
    "\n",
    "a = np.array([1,2,3])\n",
    "aa = np.tile(a,27)\n",
    "print(aa.reshape(9,9))\n"
   ]
  },
  {
   "cell_type": "markdown",
   "metadata": {},
   "source": [
    "# Question 2:\n",
    "### Write a function that performs min-max scaling on a numpy array across rows \n",
    "\n",
    "## Example:\n",
    "\n",
    "### Input \n",
    "$\\begin{bmatrix}1& 2& 3\\\\10 & 15 & 20 \\\\ -5 & -11&  9\\end{bmatrix}$\n",
    "    \n",
    "### Output\n",
    "$\\begin{bmatrix} 0 & 0.5 & 1 \\\\ 0 & 0.5 & 1 \\\\ 0.3 & 0 & 1 \\end{bmatrix}$\n"
   ]
  },
  {
   "cell_type": "code",
   "execution_count": 27,
   "metadata": {},
   "outputs": [
    {
     "name": "stdout",
     "output_type": "stream",
     "text": [
      "[[0.  0.5 1. ]\n",
      " [0.  0.5 1. ]\n",
      " [0.3 0.  1. ]]\n"
     ]
    }
   ],
   "source": [
    "import numpy as np\n",
    "\n",
    "a = np.array([[1,2,3],[10,15,20],[-5,-11,9]])\n",
    "b = np.zeros(a.shape,dtype=np.float)\n",
    "for i in range(a.shape[0]):\n",
    "    row = a[i,:]\n",
    "    mini = min(row)\n",
    "    maxi = max(row)\n",
    "    for j in range(a.shape[1]):\n",
    "        x = a[i,j]\n",
    "        d = (float)(maxi-mini)\n",
    "        xi = (x-mini)/d\n",
    "        b[i,j] = xi        \n",
    "print(b)\n",
    "\n",
    "          "
   ]
  },
  {
   "cell_type": "code",
   "execution_count": 27,
   "metadata": {},
   "outputs": [
    {
     "name": "stdout",
     "output_type": "stream",
     "text": [
      "[[0.  0.5 1. ]\n",
      " [0.  0.5 1. ]\n",
      " [0.3 0.  1. ]]\n"
     ]
    }
   ],
   "source": [
    "# Answer 2 - without using for loops\n",
    "import numpy as np\n",
    "\n",
    "a = np.array([[1,2,3],[10,15,20],[-5,-11,9]])\n",
    "\n",
    "mini =  np.min(a,axis=1).reshape(-1,1)\n",
    "maxi = np.max(a,axis=1).reshape(-1,1)\n",
    "denom = (maxi-mini)\n",
    "print((a-mini)/denom)\n",
    "#print(mini)\n",
    "#print(maxi)\n"
   ]
  },
  {
   "cell_type": "markdown",
   "metadata": {},
   "source": [
    "# Question 3:\n",
    "### Find index of the element of the array which is closest to a given value\n",
    "\n",
    "## Example:\n",
    "\n",
    "### Input \n",
    "$\\begin{bmatrix}4.5& -5& 83\\\\5.11 & 5.25 & 20 \\\\ -5 & 42&  69.99\\end{bmatrix}$\n",
    "    \n",
    "val = 5\n",
    "\n",
    "### Output\n",
    "\n",
    "index = (1, 0)\n"
   ]
  },
  {
   "cell_type": "code",
   "execution_count": 44,
   "metadata": {},
   "outputs": [
    {
     "name": "stdout",
     "output_type": "stream",
     "text": [
      "(1, 0)\n"
     ]
    }
   ],
   "source": [
    "# Answer 3 - using for loops\n",
    "import numpy as np\n",
    "\n",
    "a = np.array([[4.5,-5,83],[5.11,5.25,20],[-5,42,69.99]])\n",
    "val = 5\n",
    "r = a.shape[0]\n",
    "c = a.shape[1]\n",
    "b = np.zeros(a.shape)\n",
    "for i in range(r):\n",
    "    for j in range(c):\n",
    "        b[i,j] = abs(a[i,j]-val)\n",
    "        \n",
    "#mini = np.amin(b)\n",
    "print(np.unravel_index(np.argmin(b),b.shape))\n",
    "\n",
    "\n",
    "\n"
   ]
  },
  {
   "cell_type": "code",
   "execution_count": 51,
   "metadata": {},
   "outputs": [
    {
     "name": "stdout",
     "output_type": "stream",
     "text": [
      "(2, 1)\n"
     ]
    }
   ],
   "source": [
    "# Answer 3 - without using for loops\n",
    "\n",
    "import numpy as np\n",
    "a = np.array([[4.5,-5,83],[5.11,5.25,20],[-5,42,69.99]])\n",
    "val = 34\n",
    "r = a.shape[0]\n",
    "b = (np.full((r,1),val,dtype=float))\n",
    "b = abs(a-b)\n",
    "print(np.unravel_index(np.argmin(b),a.shape))\n",
    "\n",
    "\n",
    "\n"
   ]
  },
  {
   "cell_type": "markdown",
   "metadata": {},
   "source": [
    "# Question 4:\n",
    "### Implement A sliding window average of a given array\n",
    "\n",
    "Example: https://www.youtube.com/watch?v=ZoaEDbivmOE"
   ]
  },
  {
   "cell_type": "code",
   "execution_count": 8,
   "metadata": {},
   "outputs": [
    {
     "name": "stdout",
     "output_type": "stream",
     "text": [
      "[[ 0.          0.          0.          0.          0.        ]\n",
      " [ 0.          3.          3.66666667  4.33333333  0.        ]\n",
      " [ 0.         13.         13.66666667 14.33333333  0.        ]\n",
      " [ 0.         13.         23.22222222 23.77777778  0.        ]\n",
      " [ 0.          0.          0.          0.          0.        ]]\n"
     ]
    }
   ],
   "source": [
    "# Answer 4 - using for loops\n",
    "import numpy as np\n",
    "\n",
    "a = np.array([[0,0,0,0,0],[1,2,3,4,5],[6,7,8,9,10],[90,0,0,90,0],[1,2,3,90,4]])\n",
    "\n",
    "r = a.shape[0]\n",
    "c = a.shape[1]\n",
    "cp = np.zeros((r,c),dtype=float)\n",
    "r1=0\n",
    "r2=3\n",
    "c1=0\n",
    "c2=3\n",
    "for i in range(r-2):\n",
    "    c1=0\n",
    "    c2=3\n",
    "    for j in range(c-2):\n",
    "        b = a[r1:r2,c1:c2]\n",
    "        summ = np.sum(b)\n",
    "        av = summ/9.0;\n",
    "        cord1 = (r1+r2)//2\n",
    "        cord2 = (c1+c2)//2\n",
    "        cp[cord1,cord2] = av\n",
    "        c1=c1+1\n",
    "        c2=c2+1\n",
    "    r1=r1+1\n",
    "    r2=r2+1\n",
    "print(cp)\n",
    "\n",
    "    \n",
    "        \n",
    "        \n",
    "        \n",
    "        "
   ]
  },
  {
   "cell_type": "markdown",
   "metadata": {},
   "source": [
    "# (Optional) Question 5\n",
    "### Implement John Conway's Game of Life\n",
    "\n",
    "You can read about the rules of the game and play it at: https://bitstorm.org/gameoflife/"
   ]
  },
  {
   "cell_type": "code",
   "execution_count": null,
   "metadata": {},
   "outputs": [],
   "source": [
    "# Answer 5"
   ]
  },
  {
   "cell_type": "markdown",
   "metadata": {},
   "source": [
    "# Final Task \n",
    "## Implement edge detection using a Sobel Filter\n",
    "Read more about Sobel filter : [Wikipedia article](https://en.wikipedia.org/wiki/Sobel_operator \"Sobel Operator\")\n",
    "Some sample code to display the results is already given\n",
    "\n"
   ]
  },
  {
   "cell_type": "code",
   "execution_count": 13,
   "metadata": {},
   "outputs": [
    {
     "data": {
      "image/png": "[encoded data removed]",
      "text/plain": [
       "<Figure size 432x288 with 4 Axes>"
      ]
     },
     "metadata": {
      "needs_background": "light"
     },
     "output_type": "display_data"
    }
   ],
   "source": [
    "%matplotlib inline\n",
    "# Note: DO NOT USE THE SCIPY INBUILT FUNCTION. CONVOLVE USING FILTERS AND NORMALIZE\n",
    "import scipy\n",
    "import imageio\n",
    "import matplotlib.pyplot as plt\n",
    "import numpy as np\n",
    "\n",
    "im = imageio.imread('./fig01.jpg').astype(\"int32\")\n",
    "grey_img = im #convert image to greyscale \n",
    "\n",
    "grey_shape = list(im.shape)\n",
    "grey_shape[-1] = 1\n",
    "grey_shape = tuple(grey_shape)\n",
    "\n",
    "#assert grey_img.shape == grey_shape\n",
    "ax1 = plt.subplot(323)\n",
    "ax2 = plt.subplot(322)\n",
    "ax3 = plt.subplot(324)\n",
    "ax4 = plt.subplot(326)\n",
    "\n",
    "## Initializing the sobel filter\n",
    "filterx = np.array([[3, 0 ,-3],\n",
    "                      [10 , 0 , -10],\n",
    "                      [3, 0 ,-3]])\n",
    "filtery = filterx.T\n",
    "\n",
    "## Fill the code below\n",
    "\n",
    "dx = np.zeros((grey_img.shape[0]-2, grey_img.shape[1]-2))  # Derivative of image in X direction\n",
    "dy = np.zeros((grey_img.shape[0]-2, grey_img.shape[1]-2))  # Derivative of image in Y direction\n",
    "for i in range(grey_img.shape[0]-2):\n",
    "    for j in range(grey_img.shape[1]-2):\n",
    "        dx[i][j] = np.sum(filterx*grey_img[i:i+3, j:j+3])\n",
    "        dy[i][j] = np.sum(filtery*grey_img[i:i+3, j:j+3])\n",
    "mag =  np.sqrt(np.multiply(dx,dx)+ np.multiply(dy,dy)) # Net magnitude of derivative\n",
    "normalized =  mag/(float)(np.max(mag)) # Normalize using max value\n",
    "\n",
    "## End\n",
    "## Plot it\n",
    "ax1.imshow(im)\n",
    "ax2.imshow(dx)\n",
    "ax3.imshow(dy)\n",
    "ax4.imshow(normalized)\n",
    "plt.show()"
   ]
  },
  {
   "cell_type": "markdown",
   "metadata": {},
   "source": [
    "# All Done?\n",
    "## Checkout these advanced guides\n",
    "\n",
    "### [Advanced Numpy](https://scipy-lectures.org/advanced/advanced_numpy/index.html)\n",
    "### [Image Processing](https://scipy-lectures.org/advanced/image_processing/index.html)"
   ]
  },
  {
   "cell_type": "code",
   "execution_count": null,
   "metadata": {},
   "outputs": [],
   "source": []
  }
 ],
 "metadata": {
  "kernelspec": {
   "display_name": "Python 3",
   "language": "python",
   "name": "python3"
  },
  "language_info": {
   "codemirror_mode": {
    "name": "ipython",
    "version": 3
   },
   "file_extension": ".py",
   "mimetype": "text/x-python",
   "name": "python",
   "nbconvert_exporter": "python",
   "pygments_lexer": "ipython3",
   "version": "3.7.1"
  }
 },
 "nbformat": 4,
 "nbformat_minor": 2
}
